{
 "cells": [
  {
   "cell_type": "markdown",
   "metadata": {},
   "source": [
    "# Introduction to Data Mining"
   ]
  },
  {
   "cell_type": "markdown",
   "metadata": {},
   "source": [
    "This is the first tutorial - it provides a quick introduction to Python and IPython."
   ]
  },
  {
   "cell_type": "markdown",
   "metadata": {},
   "source": [
    "### Python"
   ]
  },
  {
   "cell_type": "markdown",
   "metadata": {},
   "source": [
    "Python is a programming language that has been growing in popularity in recent years. There are many reasons for this, but it mostly comes down to Python being easy to learn and use as well as the fact that Python has a very active community that develops amazing extensions to Python!\n",
    "\n",
    "Python has become one of the most frequently used languages in the world of data science due to the ability to almost instantly apply it to a large number of data science problems. When asking companies in different industries and of various sizes what lanuage they would like their data scientists to know when coming in, they almost all agree that Python is the best choice. \n",
    "\n",
    "Most of you have had experience in Java. Both share many characteristics given they are both programming languages and many structures and concepts will be familiar. However, there are differences. You may find you prefer python and it may allow you to be more productive, not just because of the provision of many libraries which implement Data Mining algorithms. \n",
    "\n",
    "Some key differences between Python and Java are:\n",
    "- Python is dynamically typed while Java is statically typed, this has various implications including you never need to declare variables in Python\n",
    "- Python code is more concise (briefer)\n",
    "- Python is more compact\n",
    "\n",
    "For example, the following program is in Java:\n",
    "<br>\n",
    "public class HelloWorld\n",
    "<br>\n",
    "{\n",
    "<br>\n",
    "    public static void main (String[] args)\n",
    "    <br>\n",
    "    {\n",
    "    <br>\n",
    "        System.out.println(\"Hellold!\");\n",
    "        <br>\n",
    "    }\n",
    "    <br>\n",
    "}\n",
    "<br>\n",
    "\n",
    "In Python the equivalent program is \n",
    "<br>\n",
    "print(\"Hello, world!\") # Python version 3\n"
   ]
  },
  {
   "cell_type": "markdown",
   "metadata": {},
   "source": [
    "### Python? IPython? IPython notebooks? What is all of this?"
   ]
  },
  {
   "cell_type": "markdown",
   "metadata": {},
   "source": [
    "What is all of this? \n",
    "- Python? \n",
    "- IPython? \n",
    "- IPython notebooks?\n",
    "\n",
    "For you, these terms may be confusing? Don't worry its ok... \n",
    "\n",
    "Python is a lanuage. A computer programming language. It is very popular in lots of industries. It has been around for over 30 years. Development of Python started in December 1989 by Guido van Rossum at Centrum Wiskunde & Informatica (CWI) in the Netherlands.\n",
    "\n",
    "IPython (with an I) is an extension to Python. It was created by scientists for scientists. It is typically used in computer science, machine learning, and physics research. It simply adds some new features to Python.\n",
    "Writing code in either of these is generally done in a long text document with a ton of code that can be pretty duanting to a someone new to the world of programming.\n",
    "\n",
    "IPython Notebooks (with an I, there is no such thing as a Python notebook) is what we are looking at right now. It is a web browser based way of writing Python code. One of the benefits is that it allows you to write in plain text to create, what should feel like, a notebook. The closest analog here would be to relate an IPython notebook to a typical lab notebook kept by \"traditional\" researchers. Anyone coming from chemistry or biology will probably understand what I mean.\n",
    "We will be using IPython notebooks for the rest of the semester. A majority of your class notes will be presented in this format. This will allow us to both have a place for discussion and instruction, but with the added benefit of allowing us to play with data live! \n",
    "\n",
    "The rest of this document will be broken into two main pieces: an introduction to IPython notebooks (how to use them) and then an introduction to the world of Python programming."
   ]
  },
  {
   "cell_type": "markdown",
   "metadata": {},
   "source": [
    "### IPython Notebooks"
   ]
  },
  {
   "cell_type": "markdown",
   "metadata": {},
   "source": [
    "IPython notebooks are made up of cells. There are two basics types of entries in an IPython notebook: text cells, and code cells.\n",
    "\n",
    "You can edit a cell by double clicking on it. You can get it back to the display mode by pressing the \"Run\" button from the toolbar. Try it! To switch between text and code cells, just click a cell and go to \"Cell > Cell Type\" in the menu bar (or use the toolbar)."
   ]
  },
  {
   "cell_type": "markdown",
   "metadata": {},
   "source": [
    "#### Text Cells"
   ]
  },
  {
   "cell_type": "markdown",
   "metadata": {},
   "source": [
    "Let's start a new cell and add a little bit more text.\n",
    "\n",
    "You can do text formatting. For example, you can use asterisks or underscores to emphasize things. Double asterisks are used to make things bold.\n",
    "\n",
    "If you know what LaTeX is, you can write directly in LaTeX by wrapping it in dollar signs, $x = \\frac{-b \\pm \\sqrt{b^2 - 4ac}}{2a}$. Learning $\\LaTeX$ is great for typesetting math formulas.\n",
    "\n",
    "Creating a bulleted list is pretty easy:\n",
    "- One\n",
    "- Two\n",
    "- Three\n",
    "\n",
    "It is also very easy to make a numbered list:\n",
    "1. One\n",
    "1. Two\n",
    "1. Three\n",
    "\n",
    "For a numbered list, start with 1. followed by a space, then it starts numbering for you. Start each line with some number (any number) and a period, then a space. Tab to indent to get subnumbering.\n",
    "\n",
    "This covers almost all of the text formatting you will need to learn. If you are ever stuck, just Google \"Markdown syntax\" since the language the formatting is done in is called Markdown."
   ]
  },
  {
   "cell_type": "markdown",
   "metadata": {},
   "source": [
    "#### Code Cells"
   ]
  },
  {
   "cell_type": "markdown",
   "metadata": {},
   "source": [
    "Now, we will see a \"code\" cell. Here, we simply type any Python code and then click \"Run\". When we run a cell, the code in it is executed and remembered for as long as we keep this window open - this means if you create a variable in a code cell you can refer to the variable by its name in other subsequent cells. Code cells will always start with \"In [ ]:\". Code cells are the default for any new cell."
   ]
  },
  {
   "cell_type": "code",
   "execution_count": 1,
   "metadata": {},
   "outputs": [],
   "source": [
    "x = 5 + 5"
   ]
  },
  {
   "cell_type": "code",
   "execution_count": 3,
   "metadata": {},
   "outputs": [
    {
     "name": "stdout",
     "output_type": "stream",
     "text": [
      "10\n"
     ]
    }
   ],
   "source": [
    "print (x)"
   ]
  },
  {
   "cell_type": "markdown",
   "metadata": {},
   "source": [
    "You can include more complex expressions or programs in a cell as well:"
   ]
  },
  {
   "cell_type": "code",
   "execution_count": 7,
   "metadata": {},
   "outputs": [
    {
     "name": "stdout",
     "output_type": "stream",
     "text": [
      "The value of x is 15.\n",
      "Output: Hi! This is a cell. Press the ▶| button above to run it\n"
     ]
    }
   ],
   "source": [
    "x = 5 + 10\n",
    "print (\"The value of x is \" + str(x) + \".\")\n",
    "print (\"Output: Hi! This is a cell. Press the ▶| button above to run it\")"
   ]
  },
  {
   "cell_type": "code",
   "execution_count": null,
   "metadata": {},
   "outputs": [],
   "source": []
  }
 ],
 "metadata": {
  "kernelspec": {
   "display_name": "Python 3",
   "language": "python",
   "name": "python3"
  },
  "language_info": {
   "codemirror_mode": {
    "name": "ipython",
    "version": 3
   },
   "file_extension": ".py",
   "mimetype": "text/x-python",
   "name": "python",
   "nbconvert_exporter": "python",
   "pygments_lexer": "ipython3",
   "version": "3.6.4"
  }
 },
 "nbformat": 4,
 "nbformat_minor": 2
}
